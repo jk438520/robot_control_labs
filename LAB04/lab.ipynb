{
 "cells": [
  {
   "cell_type": "code",
   "execution_count": 7,
   "metadata": {},
   "outputs": [],
   "source": [
    "import numpy as np\n",
    "import cv2\n",
    "import plotly.express as px\n",
    "import os"
   ]
  },
  {
   "cell_type": "code",
   "execution_count": 8,
   "metadata": {},
   "outputs": [
    {
     "data": {
      "text/plain": [
       "True"
      ]
     },
     "execution_count": 8,
     "metadata": {},
     "output_type": "execute_result"
    }
   ],
   "source": [
    "\n",
    "img = cv2.imread(\"data/img01.jpg\")\n",
    "px.imshow(img)\n",
    "\n",
    "patternSize = (8, 5)\n",
    "\n",
    "gray = cv2.cvtColor(img, cv2.COLOR_BGR2GRAY)\n",
    "\n",
    "retval, corners = cv2.findChessboardCorners(gray, patternSize)\n",
    "\n",
    "criteria = (cv2.TERM_CRITERIA_EPS + cv2.TERM_CRITERIA_MAX_ITER, 30, 0.001)\n",
    "ref_zone = (11,11)\n",
    "zero_zone = (-1, -1)\n",
    "\n",
    "ref_corners = cv2.cornerSubPix(gray, corners, ref_zone, zero_zone, criteria)\n",
    "with_corners = cv2.drawChessboardCorners(img, patternSize, corners, retval) \n",
    "cv2.imwrite(\"output/with_corners.jpg\", with_corners)"
   ]
  },
  {
   "cell_type": "code",
   "execution_count": 9,
   "metadata": {},
   "outputs": [
    {
     "data": {
      "text/plain": [
       "array([[  0.,   0.,   0.],\n",
       "       [ 30.,   0.,   0.],\n",
       "       [ 60.,   0.,   0.],\n",
       "       [ 90.,   0.,   0.],\n",
       "       [120.,   0.,   0.],\n",
       "       [150.,   0.,   0.],\n",
       "       [180.,   0.,   0.],\n",
       "       [210.,   0.,   0.],\n",
       "       [  0.,  30.,   0.],\n",
       "       [ 30.,  30.,   0.],\n",
       "       [ 60.,  30.,   0.],\n",
       "       [ 90.,  30.,   0.],\n",
       "       [120.,  30.,   0.],\n",
       "       [150.,  30.,   0.],\n",
       "       [180.,  30.,   0.],\n",
       "       [210.,  30.,   0.],\n",
       "       [  0.,  60.,   0.],\n",
       "       [ 30.,  60.,   0.],\n",
       "       [ 60.,  60.,   0.],\n",
       "       [ 90.,  60.,   0.],\n",
       "       [120.,  60.,   0.],\n",
       "       [150.,  60.,   0.],\n",
       "       [180.,  60.,   0.],\n",
       "       [210.,  60.,   0.],\n",
       "       [  0.,  90.,   0.],\n",
       "       [ 30.,  90.,   0.],\n",
       "       [ 60.,  90.,   0.],\n",
       "       [ 90.,  90.,   0.],\n",
       "       [120.,  90.,   0.],\n",
       "       [150.,  90.,   0.],\n",
       "       [180.,  90.,   0.],\n",
       "       [210.,  90.,   0.],\n",
       "       [  0., 120.,   0.],\n",
       "       [ 30., 120.,   0.],\n",
       "       [ 60., 120.,   0.],\n",
       "       [ 90., 120.,   0.],\n",
       "       [120., 120.,   0.],\n",
       "       [150., 120.,   0.],\n",
       "       [180., 120.,   0.],\n",
       "       [210., 120.,   0.]], dtype=float32)"
      ]
     },
     "execution_count": 9,
     "metadata": {},
     "output_type": "execute_result"
    }
   ],
   "source": [
    "def gen_objpoints(num_cols, num_rows, l):\n",
    "    a, b = np.mgrid[0:num_rows, 0:num_cols]\n",
    "    a = a.reshape(num_cols, num_rows, 1)\n",
    "    b = b.reshape(num_cols, num_rows, 1)\n",
    "    \n",
    "    a = a * np.array([0, 1, 0])\n",
    "    b = b * np.array([1, 0, 0])\n",
    "\n",
    "    grid = a + b\n",
    "    grid = grid.reshape(-1, 3)\n",
    "    return np.array(grid * l, dtype=np.float32) \n",
    "\n",
    "gen_objpoints(8, 5, 30)"
   ]
  },
  {
   "cell_type": "code",
   "execution_count": 10,
   "metadata": {},
   "outputs": [
    {
     "data": {
      "text/plain": [
       "True"
      ]
     },
     "execution_count": 10,
     "metadata": {},
     "output_type": "execute_result"
    }
   ],
   "source": [
    "cameraMatrix = None\n",
    "distCoeffs = None\n",
    "\n",
    "objectPoints = gen_objpoints(8, 5, 30)\n",
    "\n",
    "imagePoints = ref_corners\n",
    "imageSize = (1440, 960)\n",
    "retval, cameraMatrix, distCoeffs, rvecs, tvecs = cv2.calibrateCamera([objectPoints], [imagePoints], imageSize, cameraMatrix, distCoeffs)\n",
    "\n",
    "R = np.eye(3)\n",
    "m1type=cv2.CV_32FC1\n",
    "interpolation=cv2.INTER_LINEAR\n",
    "\n",
    "optimalCameraMatrix, _ = cv2.getOptimalNewCameraMatrix(cameraMatrix, distCoeffs, imageSize, 1)\n",
    "map1, map2 = cv2.initUndistortRectifyMap(cameraMatrix, distCoeffs, R, optimalCameraMatrix, imageSize, m1type)\n",
    "undistorted = cv2.remap(with_corners, map1, map2, interpolation)\n",
    "cv2.imwrite(\"output/undistorted.jpg\", undistorted)"
   ]
  },
  {
   "cell_type": "code",
   "execution_count": 13,
   "metadata": {},
   "outputs": [],
   "source": [
    "patternSize = (8, 5)\n",
    "criteria = (cv2.TERM_CRITERIA_EPS + cv2.TERM_CRITERIA_MAX_ITER, 30, 0.001)\n",
    "ref_zone = (11,11)\n",
    "zero_zone = (-1, -1)\n",
    "\n",
    "def getFilePoints(filename):\n",
    "    return getImagePoints(cv2.imread(f\"data/{filename}\"))\n",
    "\n",
    "def getImagePoints(img):\n",
    "    gray = cv2.cvtColor(img, cv2.COLOR_BGR2GRAY)\n",
    "\n",
    "    retval, corners = cv2.findChessboardCorners(gray, patternSize)\n",
    "    \n",
    "    ref_corners = cv2.cornerSubPix(gray, corners, ref_zone, zero_zone, criteria)\n",
    "    return ref_corners\n",
    "\n",
    "def getImagePointsFromDir(dirname):\n",
    "    ret = []\n",
    "    for filename in os.listdir(dirname):\n",
    "        ret.append((filename, getFilePoints(filename)))\n",
    "    return ret\n",
    "\n",
    "objectPoints = gen_objpoints(8, 5, 30)\n",
    "\n",
    "def getCameraMatrix(pointss):\n",
    "    cameraMatrix = None\n",
    "    distCoeffs = None\n",
    "\n",
    "    _, cameraMatrix, distCoeffs, _, _ = cv2.calibrateCamera(len(pointss)*[objectPoints], pointss, imageSize, cameraMatrix, distCoeffs)\n",
    "\n",
    "    optimalCameraMatrix, _ = cv2.getOptimalNewCameraMatrix(cameraMatrix, distCoeffs, imageSize, 1)\n",
    "    return cameraMatrix, optimalCameraMatrix, distCoeffs\n",
    "\n",
    "R = np.eye(3)\n",
    "m1type=cv2.CV_32FC1\n",
    "interpolation=cv2.INTER_LINEAR\n",
    "\n",
    "def getWithCorners(img):\n",
    "    gray = cv2.cvtColor(img, cv2.COLOR_BGR2GRAY)\n",
    "\n",
    "    retval, corners = cv2.findChessboardCorners(gray, patternSize)\n",
    "\n",
    "    criteria = (cv2.TERM_CRITERIA_EPS + cv2.TERM_CRITERIA_MAX_ITER, 30, 0.001)\n",
    "    ref_zone = (11,11)\n",
    "    zero_zone = (-1, -1)\n",
    "\n",
    "    ref_corners = cv2.cornerSubPix(gray, corners, ref_zone, zero_zone, criteria)\n",
    "    return cv2.drawChessboardCorners(img, patternSize, ref_corners, retval)\n",
    "\n",
    "def getUndistorted(name, map1, map2):\n",
    "    img = cv2.imread(f\"data/{name}\")\n",
    "    return cv2.remap(img, map1, map2, interpolation)\n",
    "\n",
    "def getUndistortedWithCorners(name, map1, map2):\n",
    "    img = cv2.imread(f\"data/{name}\")\n",
    "    with_corners = getWithCorners(img)\n",
    "    return cv2.remap(with_corners, map1, map2, interpolation)\n",
    "\n",
    "def saveUndistortedWithCorners(name, map1, map2):\n",
    "    undistorted = getUndistortedWithCorners(name, map1, map2)\n",
    "    cv2.imwrite(f\"output/undistorted/{name}\", undistorted)\n",
    "\n",
    "\n",
    "namesAndPoints = list(getImagePointsFromDir(\"data\"))\n",
    "names, pointss = list(map(list, zip(*namesAndPoints)))\n",
    "cameraMatrix, optimalCameraMatrix, distCoeffs = getCameraMatrix(pointss)\n",
    "\n",
    "map1, map2 = cv2.initUndistortRectifyMap(cameraMatrix, distCoeffs, R, optimalCameraMatrix, imageSize, m1type)\n",
    "\n",
    "for filename, points in namesAndPoints:\n",
    "    saveUndistortedWithCorners(filename, map1, map2)\n",
    "\n",
    "def coordinates(point):\n",
    "    return [int (i) for i in tuple(point.ravel())]\n",
    "\n",
    "def draw(img, corners, imgpts):\n",
    "    # WARNING: openCV uses BGR color space\n",
    "    corner = coordinates(corners[0].ravel())\n",
    "    img = cv2.line(img, corner, coordinates(imgpts[0]), (0,0,255), 5)\n",
    "    img = cv2.line(img, corner, coordinates(imgpts[1]), (0,255,0), 5)\n",
    "    img = cv2.line(img, corner, coordinates(imgpts[2]), (255,0,0), 5)\n",
    "    return img\n",
    "\n",
    "def saveWithAxis(filename):\n",
    "    img = getUndistorted(filename, map1, map2)\n",
    "    gray = cv2.cvtColor(img, cv2.COLOR_BGR2GRAY)\n",
    "    retval, corners = cv2.findChessboardCorners(gray, patternSize)\n",
    "    retval, rvec, tvec = cv2.solvePnP(objectPoints, corners, cameraMatrix, distCoeffs)\n",
    "\n",
    "    axisPoints = np.array([(90, 0, 0), (0, 90, 0), (0, 0, -90)], dtype=np.float32)\n",
    "    imagePoints, jacobian = cv2.projectPoints(axisPoints, rvec, tvec, cameraMatrix, distCoeffs)\n",
    "    with_corners = draw(img, corners, imagePoints)\n",
    "    cv2.imwrite(f\"output/with_corners_after_undistort/{filename}\", with_corners)\n",
    "\n",
    "\n",
    "\n",
    "for filename, points in namesAndPoints:\n",
    "    saveWithAxis(filename)"
   ]
  },
  {
   "cell_type": "code",
   "execution_count": null,
   "metadata": {},
   "outputs": [
    {
     "name": "stdout",
     "output_type": "stream",
     "text": [
      "(40, 1, 2)\n"
     ]
    }
   ],
   "source": [
    "def get_ransac_params(poll_size = 4, poll_count = 100, epsilon = 5):\n",
    "    return {\n",
    "        \"poll_size\": poll_size,\n",
    "        \"poll_count\": poll_count,\n",
    "        \"epsilon\": epsilon\n",
    "    }\n",
    "\n",
    "filename = \"img01.jpg\"\n",
    "\n",
    "image_points = getFilePoints(filename)\n",
    "\n",
    "print(image_points.shape)\n",
    "\n",
    "noise = np.random.normal(0, 30, image_points.shape)\n",
    "\n",
    "img = cv2.imread(\"data/img01.jpg\")\n",
    "\n",
    "gray = cv2.cvtColor(img, cv2.COLOR_BGR2GRAY)\n",
    "\n",
    "retval, corners = cv2.findChessboardCorners(gray, patternSize)\n",
    "\n",
    "shape = corners.shape\n",
    "\n",
    "noise = np.random.normal(0, 30, corners.shape)\n",
    "\n",
    "shape[-1] = 1\n",
    "\n",
    "mask = np.random.rand(*shape) >= 0.5\n",
    "\n",
    "\n",
    "\n",
    "def ransac(poll_size = 4, poll_count = 100, epsilon = 5):\n",
    "    best_fit_count = 0\n",
    "    best_fit = None\n",
    "    for k in range(poll_count):\n",
    "        \n"
   ]
  },
  {
   "cell_type": "code",
   "execution_count": null,
   "metadata": {},
   "outputs": [],
   "source": []
  },
  {
   "cell_type": "code",
   "execution_count": null,
   "metadata": {},
   "outputs": [],
   "source": []
  }
 ],
 "metadata": {
  "kernelspec": {
   "display_name": "venv",
   "language": "python",
   "name": "python3"
  },
  "language_info": {
   "codemirror_mode": {
    "name": "ipython",
    "version": 3
   },
   "file_extension": ".py",
   "mimetype": "text/x-python",
   "name": "python",
   "nbconvert_exporter": "python",
   "pygments_lexer": "ipython3",
   "version": "3.11.2"
  }
 },
 "nbformat": 4,
 "nbformat_minor": 2
}
