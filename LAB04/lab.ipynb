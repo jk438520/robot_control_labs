{
 "cells": [
  {
   "cell_type": "code",
   "execution_count": 15,
   "metadata": {},
   "outputs": [],
   "source": [
    "import numpy as np\n",
    "import cv2\n",
    "import plotly.express as px\n",
    "from itertools import product"
   ]
  },
  {
   "cell_type": "code",
   "execution_count": 12,
   "metadata": {},
   "outputs": [
    {
     "data": {
      "text/plain": [
       "True"
      ]
     },
     "execution_count": 12,
     "metadata": {},
     "output_type": "execute_result"
    }
   ],
   "source": [
    "\n",
    "img = cv2.imread(\"data/img01.jpg\")\n",
    "px.imshow(img)\n",
    "\n",
    "patternSize = (8, 5)\n",
    "\n",
    "gray = cv2.cvtColor(img, cv2.COLOR_BGR2GRAY)\n",
    "\n",
    "retval, corners = cv2.findChessboardCorners(gray, patternSize)\n",
    "\n",
    "criteria = (cv2.TERM_CRITERIA_EPS + cv2.TERM_CRITERIA_MAX_ITER, 30, 0.001)\n",
    "ref_zone = (11,11)\n",
    "zero_zone = (-1, -1)\n",
    "\n",
    "ref_corners = cv2.cornerSubPix(gray, corners, ref_zone, zero_zone, criteria)\n",
    "with_corners = cv2.drawChessboardCorners(img, patternSize, corners, retval) \n",
    "cv2.imwrite(\"output/with_corners.jpg\", with_corners)"
   ]
  },
  {
   "cell_type": "code",
   "execution_count": 69,
   "metadata": {},
   "outputs": [
    {
     "data": {
      "text/plain": [
       "array([[  0.,   0.,   0.],\n",
       "       [ 30.,   0.,   0.],\n",
       "       [ 60.,   0.,   0.],\n",
       "       [ 90.,   0.,   0.],\n",
       "       [120.,   0.,   0.],\n",
       "       [150.,   0.,   0.],\n",
       "       [180.,   0.,   0.],\n",
       "       [210.,   0.,   0.],\n",
       "       [  0.,  30.,   0.],\n",
       "       [ 30.,  30.,   0.],\n",
       "       [ 60.,  30.,   0.],\n",
       "       [ 90.,  30.,   0.],\n",
       "       [120.,  30.,   0.],\n",
       "       [150.,  30.,   0.],\n",
       "       [180.,  30.,   0.],\n",
       "       [210.,  30.,   0.],\n",
       "       [  0.,  60.,   0.],\n",
       "       [ 30.,  60.,   0.],\n",
       "       [ 60.,  60.,   0.],\n",
       "       [ 90.,  60.,   0.],\n",
       "       [120.,  60.,   0.],\n",
       "       [150.,  60.,   0.],\n",
       "       [180.,  60.,   0.],\n",
       "       [210.,  60.,   0.],\n",
       "       [  0.,  90.,   0.],\n",
       "       [ 30.,  90.,   0.],\n",
       "       [ 60.,  90.,   0.],\n",
       "       [ 90.,  90.,   0.],\n",
       "       [120.,  90.,   0.],\n",
       "       [150.,  90.,   0.],\n",
       "       [180.,  90.,   0.],\n",
       "       [210.,  90.,   0.],\n",
       "       [  0., 120.,   0.],\n",
       "       [ 30., 120.,   0.],\n",
       "       [ 60., 120.,   0.],\n",
       "       [ 90., 120.,   0.],\n",
       "       [120., 120.,   0.],\n",
       "       [150., 120.,   0.],\n",
       "       [180., 120.,   0.],\n",
       "       [210., 120.,   0.]], dtype=float32)"
      ]
     },
     "execution_count": 69,
     "metadata": {},
     "output_type": "execute_result"
    }
   ],
   "source": [
    "def gen_objpoints(num_cols, num_rows, l):\n",
    "    a, b = np.mgrid[0:num_rows, 0:num_cols]\n",
    "    a = a.reshape(num_cols, num_rows, 1)\n",
    "    b = b.reshape(num_cols, num_rows, 1)\n",
    "    \n",
    "    a = a * np.array([0, 1, 0])\n",
    "    b = b * np.array([1, 0, 0])\n",
    "\n",
    "    grid = a + b\n",
    "    grid = grid.reshape(-1, 3)\n",
    "    return np.array(grid * l, dtype=np.float32) \n",
    "\n",
    "gen_objpoints(8, 5, 30)"
   ]
  },
  {
   "cell_type": "code",
   "execution_count": null,
   "metadata": {},
   "outputs": [
    {
     "data": {
      "text/plain": [
       "(array([[1.17064545e+03, 0.00000000e+00, 7.40319762e+02],\n",
       "        [0.00000000e+00, 2.53084545e+01, 2.34837446e+00],\n",
       "        [0.00000000e+00, 0.00000000e+00, 1.00000000e+00]]),\n",
       " (0, 0, 0, 0))"
      ]
     },
     "execution_count": 72,
     "metadata": {},
     "output_type": "execute_result"
    }
   ],
   "source": [
    "cameraMatrix = None\n",
    "distCoeffs = None\n",
    "\n",
    "objectPoints = gen_objpoints(8, 5, 30)\n",
    "\n",
    "imagePoints = ref_corners\n",
    "imageSize = img.shape[-2:]\n",
    "\n",
    "retval, cameraMatrix, distCoeffs, rvecs, tvecs = cv2.calibrateCamera([objectPoints], [imagePoints], imageSize, cameraMatrix, distCoeffs)\n",
    "\n",
    "optimalCameraMatrix, validPixROI = cv2.getOptimalNewCameraMatrix(cameraMatrix, distCoeffs, imageSize, 1)"
   ]
  }
 ],
 "metadata": {
  "kernelspec": {
   "display_name": "venv",
   "language": "python",
   "name": "python3"
  },
  "language_info": {
   "codemirror_mode": {
    "name": "ipython",
    "version": 3
   },
   "file_extension": ".py",
   "mimetype": "text/x-python",
   "name": "python",
   "nbconvert_exporter": "python",
   "pygments_lexer": "ipython3",
   "version": "3.11.2"
  }
 },
 "nbformat": 4,
 "nbformat_minor": 2
}
